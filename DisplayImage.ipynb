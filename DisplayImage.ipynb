{
 "cells": [
  {
   "attachments": {},
   "cell_type": "markdown",
   "id": "0a380224",
   "metadata": {},
   "source": [
    "Upload image and display in notebook"
   ]
  },
  {
   "cell_type": "code",
   "execution_count": null,
   "id": "f7c08777-ba04-4a75-b3ba-9a211f4967ab",
   "metadata": {},
   "outputs": [],
   "source": [
    "from ipywidgets import widgets\n",
    "from IPython.display import display, clear_output\n",
    "from PIL import Image\n",
    "import io\n",
    "  \n",
    "out = widgets.Output()\n",
    "\n",
    "def on_value_change(change):    \n",
    "  out.clear_output()\n",
    "  for file_info in change.new:\n",
    "    img = Image.open(io.BytesIO(file_info.content.tobytes()))\n",
    "    with out:\n",
    "      display(img)\n",
    "\n",
    "upload = widgets.FileUpload(multiple=True)\n",
    "upload.observe(on_value_change, names=['value'])\n",
    "\n",
    "display(upload, out)\n"
   ]
  }
 ],
 "metadata": {
  "kernelspec": {
   "display_name": "Python 3 (ipykernel)",
   "language": "python",
   "name": "python3"
  },
  "language_info": {
   "codemirror_mode": {
    "name": "ipython",
    "version": 3
   },
   "file_extension": ".py",
   "mimetype": "text/x-python",
   "name": "python",
   "nbconvert_exporter": "python",
   "pygments_lexer": "ipython3",
   "version": "3.10.6"
  }
 },
 "nbformat": 4,
 "nbformat_minor": 5
}
