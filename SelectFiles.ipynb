{
 "cells": [
  {
   "attachments": {},
   "cell_type": "markdown",
   "metadata": {},
   "source": [
    "# Load image and display in notebook"
   ]
  },
  {
   "cell_type": "code",
   "execution_count": 17,
   "metadata": {
    "jupyter": {
     "source_hidden": true
    }
   },
   "outputs": [
    {
     "name": "stdout",
     "output_type": "stream",
     "text": [
      "Note: you may need to restart the kernel to use updated packages.\n"
     ]
    },
    {
     "data": {
      "application/vnd.jupyter.widget-view+json": {
       "model_id": "f26bc2fcd37948d4a6dc9c63719e4597",
       "version_major": 2,
       "version_minor": 0
      },
      "text/plain": [
       "FileChooser(path='/home/michel/ipynb', filename='', title='', show_hidden=False, select_desc='Select', change_…"
      ]
     },
     "metadata": {},
     "output_type": "display_data"
    },
    {
     "data": {
      "application/vnd.jupyter.widget-view+json": {
       "model_id": "f1c0adff9fc54171a8a7c1c9e42f17b9",
       "version_major": 2,
       "version_minor": 0
      },
      "text/plain": [
       "SelectMultiple(options=('/home/michel/ipynb/dog.jpg', '/home/michel/ipynb/result.jpg', '/home/michel/ipynb/Bla…"
      ]
     },
     "metadata": {},
     "output_type": "display_data"
    },
    {
     "data": {
      "application/vnd.jupyter.widget-view+json": {
       "model_id": "82ba11729c05440587ec3fa249fc4724",
       "version_major": 2,
       "version_minor": 0
      },
      "text/plain": [
       "Output()"
      ]
     },
     "metadata": {},
     "output_type": "display_data"
    }
   ],
   "source": [
    "%pip install -q ipyfilechooser ipywidgets\n",
    "from ipyfilechooser import FileChooser\n",
    "from ipywidgets import widgets\n",
    "from IPython.display import display, clear_output\n",
    "from PIL import Image\n",
    "import glob\n",
    "import os\n",
    "\n",
    "out = widgets.Output()\n",
    "\n",
    "def on_value_change(change):\n",
    "    with out:\n",
    "        clear_output()\n",
    "        for file in change.new:\n",
    "            display(Image.open(file))\n",
    "\n",
    "files = widgets.SelectMultiple(\n",
    "    options=glob.glob(os.path.abspath(os.getcwd()) + \"/*.jpg\"),\n",
    "    value=[],\n",
    "    disabled=False\n",
    ")\n",
    "files.observe(on_value_change, names=['value'])\n",
    "\n",
    "def on_file_open(chooser):\n",
    "    files.options = glob.glob(chooser.selected + \"/*.jpg\")\n",
    "\n",
    "fc = FileChooser(path=currentpath, show_only_dirs=True)\n",
    "fc.register_callback(on_file_open)\n",
    "\n",
    "display(fc, files, out)\n",
    "\n"
   ]
  }
 ],
 "metadata": {
  "kernelspec": {
   "display_name": "Python 3 (ipykernel)",
   "language": "python",
   "name": "python3"
  },
  "language_info": {
   "codemirror_mode": {
    "name": "ipython",
    "version": 3
   },
   "file_extension": ".py",
   "mimetype": "text/x-python",
   "name": "python",
   "nbconvert_exporter": "python",
   "pygments_lexer": "ipython3",
   "version": "3.10.6"
  }
 },
 "nbformat": 4,
 "nbformat_minor": 4
}
