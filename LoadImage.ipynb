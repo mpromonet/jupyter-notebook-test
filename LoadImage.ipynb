{
 "cells": [
  {
   "attachments": {},
   "cell_type": "markdown",
   "metadata": {},
   "source": [
    "# Load image and display in notebook"
   ]
  },
  {
   "cell_type": "code",
   "execution_count": null,
   "metadata": {},
   "outputs": [],
   "source": [
    "%pip install -q ipyfilechooser ipywidgets\n",
    "from ipyfilechooser import FileChooser\n",
    "from ipywidgets import widgets\n",
    "from IPython.display import display, clear_output\n",
    "from PIL import Image\n",
    "\n",
    "out = widgets.Output()\n",
    "\n",
    "def on_change_file(chooser):\n",
    "    out.clear_output()\n",
    "    img = Image.open(chooser.selected)\n",
    "    with out:\n",
    "        display(img)\n",
    "\n",
    "\n",
    "fc = FileChooser('.', filter_pattern=['*.jpg','*.png'])\n",
    "fc.register_callback(on_change_file)\n",
    "\n",
    "display(fc, out)\n",
    "\n"
   ]
  }
 ],
 "metadata": {
  "kernelspec": {
   "display_name": "Python 3",
   "language": "python",
   "name": "python3"
  },
  "language_info": {
   "codemirror_mode": {
    "name": "ipython",
    "version": 3
   },
   "file_extension": ".py",
   "mimetype": "text/x-python",
   "name": "python",
   "nbconvert_exporter": "python",
   "pygments_lexer": "ipython3",
   "version": "3.10.6"
  },
  "orig_nbformat": 4
 },
 "nbformat": 4,
 "nbformat_minor": 2
}
